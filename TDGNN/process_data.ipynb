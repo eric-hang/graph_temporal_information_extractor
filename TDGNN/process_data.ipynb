{
 "cells": [
  {
   "cell_type": "code",
   "execution_count": 1,
   "metadata": {},
   "outputs": [],
   "source": [
    "import networkx as nx\n",
    "import numpy as np\n",
    "import pickle\n",
    "import random"
   ]
  },
  {
   "cell_type": "code",
   "execution_count": 2,
   "metadata": {},
   "outputs": [],
   "source": [
    "def translate_data_into_graph(datapath,weight_idx,time_idx):\n",
    "    edges=[]\n",
    "    with open(datapath) as f:\n",
    "        for line in f:\n",
    "            tokens = line.strip().split()\n",
    "            u = int(tokens[0])\n",
    "            v = int(tokens[1])\n",
    "            time = int(tokens[time_idx])\n",
    "            \n",
    "            if weight_idx:\n",
    "                weight = int(tokens[weight_idx])\n",
    "                edges.append((u,v,{'weight':weight,'time':time}))\n",
    "            else:\n",
    "                edges.append((u,v,{'time':time}))\n",
    "            \n",
    "    g = nx.MultiGraph()\n",
    "    g.add_edges_from(edges)\n",
    "    g = g.to_undirected()\n",
    "    return g"
   ]
  },
  {
   "cell_type": "code",
   "execution_count": 3,
   "metadata": {},
   "outputs": [],
   "source": [
    "def get_negative_edge(g,first_node=None):\n",
    "    if first_node is None:\n",
    "        first_node = np.random.choice(g.nodes())\n",
    "    \n",
    "    possible_nodes = set(g.nodes())\n",
    "    \n",
    "    neighbor = list(g.neighbors(first_node)) + [first_node]\n",
    "    \n",
    "    possible_nodes.difference_update(neighbor)\n",
    "    \n",
    "    second_node = np.random.choice(list(possible_nodes))\n",
    "    \n",
    "    return (first_node,second_node,{'weight':1,'time':None})"
   ]
  },
  {
   "cell_type": "code",
   "execution_count": 4,
   "metadata": {},
   "outputs": [],
   "source": [
    "def create_data(g,total=0.5,train=0.8):\n",
    "    nodes = g.nodes()\n",
    "    train_edges = []\n",
    "    pos_edges = []\n",
    "    neg_edges = []\n",
    "    train_neg_edges = []\n",
    "    for node in nodes:\n",
    "        total_edges = []\n",
    "        edges_of_node = []\n",
    "        #只获取到每个节点向外的边\n",
    "        for e in g.edges(node,data=True): #data=True时可以同时获取到(u,v,ddict)\n",
    "            edges_of_node.append(e)\n",
    "        \n",
    "        edges_of_node = sorted(edges_of_node,key=lambda x:x[2]['time']) #根据时间权重进行排序\n",
    "        num_edges = len(edges_of_node)\n",
    "        \n",
    "        num_total_edges = int(num_edges*total)\n",
    "        \n",
    "        total_edges += edges_of_node[:num_total_edges]\n",
    "        \n",
    "        random.shuffle(total_edges)\n",
    "\n",
    "        num_train_edges = int(train * num_total_edges)\n",
    "        \n",
    "        train_edges.extend(total_edges[:num_train_edges])\n",
    "        \n",
    "        pos_edges.extend(total_edges[num_train_edges:])\n",
    "        \n",
    "        for i in range(num_total_edges-num_train_edges):\n",
    "            neg_edge = get_negative_edge(g)\n",
    "            neg_edges.append(neg_edge)\n",
    "        \n",
    "        for i in range(num_train_edges):\n",
    "            train_neg_edge = get_negative_edge(g)\n",
    "            train_neg_edges.append(train_neg_edge)\n",
    "\n",
    "    return train_edges,train_neg_edges,pos_edges,neg_edges"
   ]
  },
  {
   "cell_type": "code",
   "execution_count": 5,
   "metadata": {},
   "outputs": [],
   "source": [
    "datapath = './ia-conact/ia-contact.edges'\n",
    "g = translate_data_into_graph(datapath,weight_idx=2,time_idx=3)\n",
    "\n",
    "train_edges,train_neg_edges, pos_edges, neg_edges = create_data(g,total=0.5,train=0.8)\n",
    "\n",
    "save_path = './ia-conact/'\n",
    "with open(save_path + 'train_edges', 'wb') as f:\n",
    "    pickle.dump(train_edges, f)\n",
    "\n",
    "with open(save_path + 'train_neg_edges', 'wb') as f:\n",
    "    pickle.dump(train_neg_edges, f)\n",
    "\n",
    "with open(save_path + 'pos_edges', 'wb') as f:\n",
    "    pickle.dump(pos_edges, f)\n",
    "with open(save_path + 'neg_edges', 'wb') as f:\n",
    "    pickle.dump(neg_edges, f)\n",
    "    \n"
   ]
  },
  {
   "cell_type": "code",
   "execution_count": 6,
   "metadata": {},
   "outputs": [
    {
     "data": {
      "text/plain": [
       "5766"
      ]
     },
     "execution_count": 6,
     "metadata": {},
     "output_type": "execute_result"
    }
   ],
   "source": [
    "len(neg_edges)"
   ]
  },
  {
   "cell_type": "code",
   "execution_count": 7,
   "metadata": {},
   "outputs": [
    {
     "data": {
      "text/plain": [
       "22408"
      ]
     },
     "execution_count": 7,
     "metadata": {},
     "output_type": "execute_result"
    }
   ],
   "source": [
    "len(train_edges)"
   ]
  },
  {
   "cell_type": "code",
   "execution_count": null,
   "metadata": {},
   "outputs": [],
   "source": []
  }
 ],
 "metadata": {
  "kernelspec": {
   "display_name": "Python 3",
   "language": "python",
   "name": "python3"
  },
  "language_info": {
   "codemirror_mode": {
    "name": "ipython",
    "version": 3
   },
   "file_extension": ".py",
   "mimetype": "text/x-python",
   "name": "python",
   "nbconvert_exporter": "python",
   "pygments_lexer": "ipython3",
   "version": "3.7.9"
  }
 },
 "nbformat": 4,
 "nbformat_minor": 4
}
