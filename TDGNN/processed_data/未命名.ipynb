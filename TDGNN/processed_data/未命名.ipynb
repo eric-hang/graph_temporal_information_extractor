{
 "cells": [
  {
   "cell_type": "code",
   "execution_count": 1,
   "metadata": {},
   "outputs": [],
   "source": [
    "import networkx as nx\n",
    "import numpy as np\n",
    "import pickle"
   ]
  },
  {
   "cell_type": "code",
   "execution_count": 2,
   "metadata": {},
   "outputs": [],
   "source": [
    "class TDGNN:\n",
    "    def __init__(self,edgelist,time_prop_name):\n",
    "        self.g = nx.MultiDiGraph()\n",
    "        \n",
    "        self.g.add_edges_from(edgelist)\n",
    "        \n",
    "        self.time_prop_name = time_prop_name\n",
    "        \n",
    "        self.edges = list(self.g.edges(data=True))\n",
    "        \n",
    "        self.beta = None\n",
    "        self.D = None\n",
    "        self.L = None\n",
    "        self.omega = None\n",
    "        \n",
    "        self.all_time_walks = None\n",
    "        self.num_nodes = len(list(self.g.nodes()))\n",
    "        self.num_edges = len(self.edges)\n",
    "    \n",
    "    \n",
    "    def set_param(self,beta,D,omega,L):\n",
    "        self.beta = beta\n",
    "        self.D = D\n",
    "        self.L = L\n",
    "        self.omega = omega\n",
    "        \n",
    "    def sample_edge(self):\n",
    "        choice = np.random.choice(self.num_edges)#随机选择一条边\n",
    "        \n",
    "        return self.edges[choice]\n",
    "    \n",
    "    def TDGNN_walks(self):\n",
    "        all_time_walks = []\n",
    "        \n",
    "        context = 0\n",
    "        counter = 0\n",
    "        while self.beta-context >0:\n",
    "            u,v,ddict = self.sample_edge()\n",
    "            t = ddict[self.time_prop_name]\n",
    "            "
   ]
  },
  {
   "cell_type": "code",
   "execution_count": 3,
   "metadata": {},
   "outputs": [
    {
     "data": {
      "text/plain": [
       "26"
      ]
     },
     "execution_count": 3,
     "metadata": {},
     "output_type": "execute_result"
    }
   ],
   "source": []
  },
  {
   "cell_type": "code",
   "execution_count": null,
   "metadata": {},
   "outputs": [],
   "source": []
  }
 ],
 "metadata": {
  "kernelspec": {
   "display_name": "Python 3",
   "language": "python",
   "name": "python3"
  },
  "language_info": {
   "codemirror_mode": {
    "name": "ipython",
    "version": 3
   },
   "file_extension": ".py",
   "mimetype": "text/x-python",
   "name": "python",
   "nbconvert_exporter": "python",
   "pygments_lexer": "ipython3",
   "version": "3.7.9"
  }
 },
 "nbformat": 4,
 "nbformat_minor": 4
}
